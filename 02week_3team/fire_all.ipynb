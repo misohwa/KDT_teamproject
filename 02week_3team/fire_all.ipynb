{
 "cells": [
  {
   "cell_type": "code",
   "execution_count": 8,
   "id": "55d760e4",
   "metadata": {},
   "outputs": [
    {
     "name": "stdout",
     "output_type": "stream",
     "text": [
      "Defaulting to user installation because normal site-packages is not writeable\n",
      "Requirement already satisfied: matplotlib in c:\\programdata\\anaconda3\\lib\\site-packages (3.5.1)\n",
      "Requirement already satisfied: python-dateutil>=2.7 in c:\\programdata\\anaconda3\\lib\\site-packages (from matplotlib) (2.8.2)\n",
      "Requirement already satisfied: cycler>=0.10 in c:\\programdata\\anaconda3\\lib\\site-packages (from matplotlib) (0.11.0)\n",
      "Requirement already satisfied: numpy>=1.17 in c:\\programdata\\anaconda3\\lib\\site-packages (from matplotlib) (1.21.5)\n",
      "Requirement already satisfied: pillow>=6.2.0 in c:\\programdata\\anaconda3\\lib\\site-packages (from matplotlib) (9.0.1)\n",
      "Requirement already satisfied: pyparsing>=2.2.1 in c:\\programdata\\anaconda3\\lib\\site-packages (from matplotlib) (3.0.4)\n",
      "Requirement already satisfied: packaging>=20.0 in c:\\programdata\\anaconda3\\lib\\site-packages (from matplotlib) (21.3)\n",
      "Requirement already satisfied: kiwisolver>=1.0.1 in c:\\programdata\\anaconda3\\lib\\site-packages (from matplotlib) (1.3.2)\n",
      "Requirement already satisfied: fonttools>=4.22.0 in c:\\programdata\\anaconda3\\lib\\site-packages (from matplotlib) (4.25.0)\n",
      "Requirement already satisfied: six>=1.5 in c:\\programdata\\anaconda3\\lib\\site-packages (from python-dateutil>=2.7->matplotlib) (1.16.0)\n"
     ]
    }
   ],
   "source": [
    "# 데이터 시각화를 위해 패키지 설치 ------------------------\n",
    "!pip install matplotlib"
   ]
  },
  {
   "cell_type": "code",
   "execution_count": 9,
   "id": "c10cb9fe",
   "metadata": {},
   "outputs": [
    {
     "data": {
      "text/plain": [
       "'./Data/fire_allyear.csv'"
      ]
     },
     "execution_count": 9,
     "metadata": {},
     "output_type": "execute_result"
    }
   ],
   "source": [
    "# 모듈 로딩\n",
    "import pandas as pd\n",
    "import matplotlib.pyplot as plt\n",
    "\n",
    "# Matplotlib 한글 Font 설정 ---------------\n",
    "from matplotlib import font_manager as fm, rc\n",
    "\n",
    "# 한글 폰트 설정\n",
    "font_path='../Fonts/malgun.ttf'\n",
    "font_name=fm.FontProperties(fname=font_path).get_name()\n",
    "rc('font',family=font_name)\n",
    "\n",
    "# 파일 관련 변수들\n",
    "DIR_PATH='./Data/'\n",
    "FILE_NAME=DIR_PATH+'fire_allyear.csv'\n",
    "\n",
    "FILE_NAME"
   ]
  },
  {
   "cell_type": "code",
   "execution_count": 10,
   "id": "a3df49f4",
   "metadata": {},
   "outputs": [
    {
     "data": {
      "text/html": [
       "<div>\n",
       "<style scoped>\n",
       "    .dataframe tbody tr th:only-of-type {\n",
       "        vertical-align: middle;\n",
       "    }\n",
       "\n",
       "    .dataframe tbody tr th {\n",
       "        vertical-align: top;\n",
       "    }\n",
       "\n",
       "    .dataframe thead th {\n",
       "        text-align: right;\n",
       "    }\n",
       "</style>\n",
       "<table border=\"1\" class=\"dataframe\">\n",
       "  <thead>\n",
       "    <tr style=\"text-align: right;\">\n",
       "      <th></th>\n",
       "      <th>Unnamed: 0</th>\n",
       "      <th>년</th>\n",
       "      <th>월</th>\n",
       "      <th>시간대</th>\n",
       "      <th>시도</th>\n",
       "      <th>화재유형</th>\n",
       "      <th>발화열원대분류</th>\n",
       "      <th>발화요인대분류</th>\n",
       "      <th>최초착화물대분류</th>\n",
       "      <th>장소대분류</th>\n",
       "      <th>사망</th>\n",
       "      <th>부상</th>\n",
       "      <th>인명피해(명)소계</th>\n",
       "      <th>재산피해소계</th>\n",
       "    </tr>\n",
       "  </thead>\n",
       "  <tbody>\n",
       "    <tr>\n",
       "      <th>0</th>\n",
       "      <td>0</td>\n",
       "      <td>2015</td>\n",
       "      <td>1</td>\n",
       "      <td>심야</td>\n",
       "      <td>경상남도</td>\n",
       "      <td>건축,구조물</td>\n",
       "      <td>작동기기</td>\n",
       "      <td>전기적 요인</td>\n",
       "      <td>전기,전자</td>\n",
       "      <td>주거</td>\n",
       "      <td>0</td>\n",
       "      <td>0</td>\n",
       "      <td>0</td>\n",
       "      <td>2920</td>\n",
       "    </tr>\n",
       "    <tr>\n",
       "      <th>1</th>\n",
       "      <td>1</td>\n",
       "      <td>2015</td>\n",
       "      <td>1</td>\n",
       "      <td>심야</td>\n",
       "      <td>서울특별시</td>\n",
       "      <td>임야</td>\n",
       "      <td>담뱃불, 라이터불</td>\n",
       "      <td>부주의</td>\n",
       "      <td>기타</td>\n",
       "      <td>임야</td>\n",
       "      <td>0</td>\n",
       "      <td>0</td>\n",
       "      <td>0</td>\n",
       "      <td>0</td>\n",
       "    </tr>\n",
       "    <tr>\n",
       "      <th>2</th>\n",
       "      <td>2</td>\n",
       "      <td>2015</td>\n",
       "      <td>1</td>\n",
       "      <td>심야</td>\n",
       "      <td>서울특별시</td>\n",
       "      <td>자동차,철도차량</td>\n",
       "      <td>담뱃불, 라이터불</td>\n",
       "      <td>부주의</td>\n",
       "      <td>침구,직물류</td>\n",
       "      <td>자동차,철도차량</td>\n",
       "      <td>0</td>\n",
       "      <td>0</td>\n",
       "      <td>0</td>\n",
       "      <td>137</td>\n",
       "    </tr>\n",
       "  </tbody>\n",
       "</table>\n",
       "</div>"
      ],
      "text/plain": [
       "   Unnamed: 0     년  월 시간대     시도      화재유형    발화열원대분류 발화요인대분류 최초착화물대분류  \\\n",
       "0           0  2015  1  심야   경상남도    건축,구조물       작동기기  전기적 요인    전기,전자   \n",
       "1           1  2015  1  심야  서울특별시        임야  담뱃불, 라이터불     부주의       기타   \n",
       "2           2  2015  1  심야  서울특별시  자동차,철도차량  담뱃불, 라이터불     부주의   침구,직물류   \n",
       "\n",
       "      장소대분류  사망  부상  인명피해(명)소계  재산피해소계  \n",
       "0        주거   0   0          0    2920  \n",
       "1        임야   0   0          0       0  \n",
       "2  자동차,철도차량   0   0          0     137  "
      ]
     },
     "execution_count": 10,
     "metadata": {},
     "output_type": "execute_result"
    }
   ],
   "source": [
    "# CSV File => DataFrame으로 객체 생성\n",
    "fireDF=pd.read_csv(FILE_NAME, encoding='cp949')\n",
    "\n",
    "fireDF.head(3)   "
   ]
  },
  {
   "cell_type": "code",
   "execution_count": 11,
   "id": "847ac0f1",
   "metadata": {
    "scrolled": true
   },
   "outputs": [
    {
     "name": "stdout",
     "output_type": "stream",
     "text": [
      "<class 'pandas.core.frame.DataFrame'>\n",
      "RangeIndex: 214467 entries, 0 to 214466\n",
      "Data columns (total 14 columns):\n",
      " #   Column      Non-Null Count   Dtype \n",
      "---  ------      --------------   ----- \n",
      " 0   Unnamed: 0  214467 non-null  int64 \n",
      " 1   년           214467 non-null  int64 \n",
      " 2   월           214467 non-null  int64 \n",
      " 3   시간대         214467 non-null  object\n",
      " 4   시도          214467 non-null  object\n",
      " 5   화재유형        214467 non-null  object\n",
      " 6   발화열원대분류     214467 non-null  object\n",
      " 7   발화요인대분류     214467 non-null  object\n",
      " 8   최초착화물대분류    214467 non-null  object\n",
      " 9   장소대분류       214467 non-null  object\n",
      " 10  사망          214467 non-null  int64 \n",
      " 11  부상          214467 non-null  int64 \n",
      " 12  인명피해(명)소계   214467 non-null  int64 \n",
      " 13  재산피해소계      214467 non-null  int64 \n",
      "dtypes: int64(7), object(7)\n",
      "memory usage: 22.9+ MB\n"
     ]
    }
   ],
   "source": [
    "# DF 요약 정보 확인\n",
    "fireDF.info()"
   ]
  },
  {
   "cell_type": "code",
   "execution_count": 67,
   "id": "86b77e80",
   "metadata": {},
   "outputs": [
    {
     "ename": "SyntaxError",
     "evalue": "invalid syntax (2461621058.py, line 1)",
     "output_type": "error",
     "traceback": [
      "\u001b[1;36m  Input \u001b[1;32mIn [67]\u001b[1;36m\u001b[0m\n\u001b[1;33m    fireDF[fireDF.인명피해(명)소계]!=0\u001b[0m\n\u001b[1;37m                         ^\u001b[0m\n\u001b[1;31mSyntaxError\u001b[0m\u001b[1;31m:\u001b[0m invalid syntax\n"
     ]
    }
   ],
   "source": []
  },
  {
   "cell_type": "code",
   "execution_count": 69,
   "id": "fa053483",
   "metadata": {},
   "outputs": [
    {
     "ename": "SyntaxError",
     "evalue": "invalid syntax (3399302082.py, line 2)",
     "output_type": "error",
     "traceback": [
      "\u001b[1;36m  Input \u001b[1;32mIn [69]\u001b[1;36m\u001b[0m\n\u001b[1;33m    fire__1 = fireDF[인명피해(명)소계!=0]\u001b[0m\n\u001b[1;37m                            ^\u001b[0m\n\u001b[1;31mSyntaxError\u001b[0m\u001b[1;31m:\u001b[0m invalid syntax\n"
     ]
    }
   ],
   "source": [
    "# 인명피해가 있는 상황만 확인\n",
    "fire__1 = fireDF[인명피해(명)소계!=0]\n",
    "\n",
    "\n",
    "# 재산피해가 있는 상황만 확인\n",
    "# fire__2 = fireDF[fireDF.재산피해소계!=0]"
   ]
  },
  {
   "cell_type": "code",
   "execution_count": null,
   "id": "1a14bb63",
   "metadata": {},
   "outputs": [],
   "source": []
  },
  {
   "cell_type": "code",
   "execution_count": 12,
   "id": "8bd6e7f4",
   "metadata": {},
   "outputs": [
    {
     "data": {
      "text/plain": [
       "년\n",
       "2015    44435\n",
       "2017    44178\n",
       "2016    43413\n",
       "2018    42338\n",
       "2019    40103\n",
       "Name: 시도, dtype: int64"
      ]
     },
     "execution_count": 12,
     "metadata": {},
     "output_type": "execute_result"
    }
   ],
   "source": [
    "# 년도별 화재발생건수 비교\n",
    "fire_1=fireDF.groupby('년').count()['시도'].sort_values(ascending=False)\n",
    "fire_1"
   ]
  },
  {
   "cell_type": "code",
   "execution_count": 55,
   "id": "4ededf9c",
   "metadata": {
    "scrolled": false
   },
   "outputs": [
    {
     "data": {
      "image/png": "[encoded data removed]",
      "text/plain": [
       "<Figure size 432x288 with 1 Axes>"
      ]
     },
     "metadata": {
      "needs_background": "light"
     },
     "output_type": "display_data"
    }
   ],
   "source": [
    "# 년도별 화재발생건수 비교 그래프\n",
    "x = fire_1.index\n",
    "y = fire_1.values\n",
    "\n",
    "plt.bar(x,y)\n",
    "plt.ylim(35000, 45000)\n",
    "plt.title('년도별 화재 발생건수')\n",
    "plt.show()"
   ]
  },
  {
   "cell_type": "code",
   "execution_count": 56,
   "id": "19a8c1d2",
   "metadata": {},
   "outputs": [
    {
     "data": {
      "text/plain": [
       "년\n",
       "2015    44435\n",
       "2017    44178\n",
       "2016    43413\n",
       "2018    42338\n",
       "2019    40103\n",
       "Name: 인명피해(명)소계, dtype: int64"
      ]
     },
     "execution_count": 56,
     "metadata": {},
     "output_type": "execute_result"
    }
   ],
   "source": [
    "# 년도별 인명피해건수 비교\n",
    "fire_2=fireDF.groupby('년').count()['인명피해(명)소계'].sort_values(ascending=False)\n",
    "fire_2"
   ]
  },
  {
   "cell_type": "code",
   "execution_count": 57,
   "id": "7e1dd6e1",
   "metadata": {},
   "outputs": [
    {
     "data": {
      "image/png": "[encoded data removed]",
      "text/plain": [
       "<Figure size 432x288 with 1 Axes>"
      ]
     },
     "metadata": {
      "needs_background": "light"
     },
     "output_type": "display_data"
    }
   ],
   "source": [
    "# 년도별 화재발생건수 비교 그래프\n",
    "x = fire_2.index\n",
    "y = fire_2.values\n",
    "\n",
    "plt.bar(x,y)\n",
    "plt.ylim(35000, 45000)\n",
    "plt.title('년도별 화재 인명피해건수')\n",
    "plt.show()"
   ]
  },
  {
   "cell_type": "code",
   "execution_count": 58,
   "id": "6b095328",
   "metadata": {},
   "outputs": [
    {
     "data": {
      "text/plain": [
       "년\n",
       "2015    44435\n",
       "2017    44178\n",
       "2016    43413\n",
       "2018    42338\n",
       "2019    40103\n",
       "Name: 재산피해소계, dtype: int64"
      ]
     },
     "execution_count": 58,
     "metadata": {},
     "output_type": "execute_result"
    }
   ],
   "source": [
    "# 년도별 재산피해건수 비교\n",
    "fire_3=fireDF.groupby('년').count()['재산피해소계'].sort_values(ascending=False)\n",
    "fire_3"
   ]
  },
  {
   "cell_type": "code",
   "execution_count": 59,
   "id": "75d52254",
   "metadata": {},
   "outputs": [
    {
     "data": {
      "image/png": "[encoded data removed]",
      "text/plain": [
       "<Figure size 432x288 with 1 Axes>"
      ]
     },
     "metadata": {
      "needs_background": "light"
     },
     "output_type": "display_data"
    }
   ],
   "source": [
    "# 년도별 재산피해건수 비교 그래프\n",
    "x = fire_3.index\n",
    "y = fire_3.values\n",
    "\n",
    "plt.bar(x,y)\n",
    "plt.ylim(35000, 45000)\n",
    "plt.title('년도별 화재 재산피해건수')\n",
    "plt.show()"
   ]
  },
  {
   "cell_type": "code",
   "execution_count": null,
   "id": "b15e02f4",
   "metadata": {},
   "outputs": [],
   "source": []
  },
  {
   "cell_type": "code",
   "execution_count": 60,
   "id": "a7b9af51",
   "metadata": {},
   "outputs": [
    {
     "data": {
      "text/plain": [
       "년\n",
       "2018    2594\n",
       "2019    2515\n",
       "2017    2197\n",
       "2015    2093\n",
       "2016    2024\n",
       "Name: 인명피해(명)소계, dtype: int64"
      ]
     },
     "execution_count": 60,
     "metadata": {},
     "output_type": "execute_result"
    }
   ],
   "source": [
    "# 년도별 인명피해 합계 비교\n",
    "fire_22=fireDF.groupby('년').sum()['인명피해(명)소계'].sort_values(ascending=False)\n",
    "fire_22"
   ]
  },
  {
   "cell_type": "code",
   "execution_count": 61,
   "id": "e5573099",
   "metadata": {},
   "outputs": [
    {
     "data": {
      "image/png": "[encoded data removed]",
      "text/plain": [
       "<Figure size 432x288 with 1 Axes>"
      ]
     },
     "metadata": {
      "needs_background": "light"
     },
     "output_type": "display_data"
    }
   ],
   "source": [
    "# 년도별 화재발생 합계 비교 그래프\n",
    "x = fire_22.index\n",
    "y = fire_22.values\n",
    "\n",
    "plt.bar(x,y)\n",
    "plt.ylim(1500, 2800)\n",
    "plt.title('년도별 화재 인명피해 합계')\n",
    "plt.show()"
   ]
  },
  {
   "cell_type": "code",
   "execution_count": 62,
   "id": "b5d4d65e",
   "metadata": {},
   "outputs": [
    {
     "data": {
      "text/plain": [
       "년\n",
       "2019    858496234\n",
       "2018    559712389\n",
       "2017    506913578\n",
       "2015    433208573\n",
       "2016    420633780\n",
       "Name: 재산피해소계, dtype: int64"
      ]
     },
     "execution_count": 62,
     "metadata": {},
     "output_type": "execute_result"
    }
   ],
   "source": [
    "# 년도별 재산피해 합계 비교\n",
    "fire_33=fireDF.groupby('년').sum()['재산피해소계'].sort_values(ascending=False)\n",
    "fire_33"
   ]
  },
  {
   "cell_type": "code",
   "execution_count": 63,
   "id": "524458bb",
   "metadata": {},
   "outputs": [
    {
     "data": {
      "image/png": "[encoded data removed]",
      "text/plain": [
       "<Figure size 432x288 with 1 Axes>"
      ]
     },
     "metadata": {
      "needs_background": "light"
     },
     "output_type": "display_data"
    }
   ],
   "source": [
    "# 년도별 재산피해 합계 비교 그래프\n",
    "x = fire_33.index\n",
    "y = fire_33.values\n",
    "\n",
    "plt.bar(x,y)\n",
    "plt.ylim(0, 900000000)\n",
    "plt.title('년도별 화재 재산피해 합계')\n",
    "plt.show()"
   ]
  },
  {
   "cell_type": "code",
   "execution_count": null,
   "id": "99d02167",
   "metadata": {},
   "outputs": [],
   "source": []
  },
  {
   "cell_type": "code",
   "execution_count": null,
   "id": "2ad6f753",
   "metadata": {},
   "outputs": [],
   "source": []
  }
 ],
 "metadata": {
  "kernelspec": {
   "display_name": "Python 3 (ipykernel)",
   "language": "python",
   "name": "python3"
  },
  "language_info": {
   "codemirror_mode": {
    "name": "ipython",
    "version": 3
   },
   "file_extension": ".py",
   "mimetype": "text/x-python",
   "name": "python",
   "nbconvert_exporter": "python",
   "pygments_lexer": "ipython3",
   "version": "3.9.12"
  }
 },
 "nbformat": 4,
 "nbformat_minor": 5
}
