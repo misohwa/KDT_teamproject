{
 "cells": [
  {
   "cell_type": "markdown",
   "id": "508fa5ee",
   "metadata": {},
   "source": [
    "# * 공공자전거 이용자와 코로나 확진자와의 관계성\n",
    "\n",
    "# * 공공자전거 이용자와 국내유가의 관계성"
   ]
  },
  {
   "cell_type": "code",
   "execution_count": 880,
   "id": "a87cf373",
   "metadata": {},
   "outputs": [],
   "source": [
    "# 모듈 로딩\n",
    "import pandas as pd\n",
    "import matplotlib.pyplot as plt\n",
    "import seaborn as sns\n",
    "from datetime import date\n",
    "\n",
    "# Matplotlib 한글 Font 설정 ---------------\n",
    "from matplotlib import font_manager as fm, rc\n",
    "font_path='../Fonts/malgun.ttf'\n",
    "font_name=fm.FontProperties(fname=font_path).get_name()\n",
    "rc('font',family=font_name)\n",
    "\n",
    "# 파일 관련 변수\n",
    "DIR='./Data/'\n",
    "\n",
    "# 공공자전거 이용자수 파일 통합\n",
    "bike1=pd.read_csv(DIR+'bikeseoul_2019.06.01_2019.11.30.csv', encoding='cp949')\n",
    "bike2=pd.read_csv(DIR+'bikeseoul_2019.12.01_2020.05.31.csv', encoding='cp949')\n",
    "bike3=pd.read_csv(DIR+'bikeseoul_2020.06.01_2020.06.30.csv', encoding='cp949')\n",
    "bike4=pd.read_csv(DIR+'bikeseoul_2020.07.01_2021.01.31.csv', encoding='cp949')\n",
    "bike5=pd.read_csv(DIR+'bikeseoul_2021.02.01_2021.06.30.csv', encoding='cp949')\n",
    "bike6=pd.read_csv(DIR+'bikeseoul_2021.07.01-2021.12.31.csv', encoding='cp949')\n",
    "\n",
    "bikeDF=pd.concat([bike1,bike2,bike3,bike4,bike5,bike6], ignore_index=True)\n",
    "bikeDF.to_excel('./bike_all.xlsx')                      # 합본 파일 저장"
   ]
  },
  {
   "cell_type": "markdown",
   "id": "7c20466e",
   "metadata": {},
   "source": [
    "#### 데이터 전처리[공공자전거 이용자수 파일]"
   ]
  },
  {
   "cell_type": "code",
   "execution_count": 881,
   "id": "2c22d5e5",
   "metadata": {
    "collapsed": true
   },
   "outputs": [
    {
     "name": "stdout",
     "output_type": "stream",
     "text": [
      "<class 'pandas.core.frame.DataFrame'>\n",
      "RangeIndex: 1092 entries, 0 to 1091\n",
      "Data columns (total 2 columns):\n",
      " #   Column  Non-Null Count  Dtype \n",
      "---  ------  --------------  ----- \n",
      " 0   date    1092 non-null   object\n",
      " 1   자전거대여   1092 non-null   int32 \n",
      "dtypes: int32(1), object(1)\n",
      "memory usage: 12.9+ KB\n"
     ]
    }
   ],
   "source": [
    "# 컬럼명 변경\n",
    "bikeDF.rename(columns={'대여일시':'date'},inplace=True)\n",
    "bikeDF.rename(columns={'대여건수':'자전거대여'},inplace=True)\n",
    "\n",
    "# 데이터 확인\n",
    "# bikeDF.info()\n",
    "\n",
    "# 자료형 object->int 변환\n",
    "bikeDF['자전거대여']=bikeDF['자전거대여'].str.replace(',','').astype('int')\n",
    "bikeDF.info()"
   ]
  },
  {
   "cell_type": "code",
   "execution_count": 882,
   "id": "331d40d9",
   "metadata": {
    "collapsed": true
   },
   "outputs": [
    {
     "data": {
      "text/plain": [
       "date     0\n",
       "자전거대여    0\n",
       "dtype: int64"
      ]
     },
     "execution_count": 882,
     "metadata": {},
     "output_type": "execute_result"
    }
   ],
   "source": [
    "# 결측값 여부 확인\n",
    "bikeDF.isnull().sum()"
   ]
  },
  {
   "cell_type": "code",
   "execution_count": 883,
   "id": "73635d16",
   "metadata": {},
   "outputs": [
    {
     "data": {
      "text/plain": [
       "148"
      ]
     },
     "execution_count": 883,
     "metadata": {},
     "output_type": "execute_result"
    }
   ],
   "source": [
    "# 중복 데이터 여부 확인\n",
    "bikeDF.duplicated().sum()"
   ]
  },
  {
   "cell_type": "code",
   "execution_count": 884,
   "id": "960767a9",
   "metadata": {},
   "outputs": [],
   "source": [
    "# 중복 제거 함수\n",
    "bikeDF=bikeDF.drop_duplicates()\n",
    "\n",
    "# index 다시 부여\n",
    "bikeDF.index=range(len(bikeDF))\n",
    "\n",
    "# 날짜 연-월-일 분리\n",
    "bike_list=bikeDF['date'].str.split('-')\n",
    "\n",
    "bikeDF['year']=bike_list.str.get(0)\n",
    "bikeDF['month']=bike_list.str.get(1)\n",
    "bikeDF['day']=bike_list.str.get(2)"
   ]
  },
  {
   "cell_type": "markdown",
   "id": "925fa924",
   "metadata": {},
   "source": [
    "### (1-1) 공공자전거 대여에 대한 기본통계"
   ]
  },
  {
   "cell_type": "code",
   "execution_count": 885,
   "id": "b7cd73db",
   "metadata": {
    "scrolled": false
   },
   "outputs": [
    {
     "data": {
      "text/html": [
       "<div>\n",
       "<style scoped>\n",
       "    .dataframe tbody tr th:only-of-type {\n",
       "        vertical-align: middle;\n",
       "    }\n",
       "\n",
       "    .dataframe tbody tr th {\n",
       "        vertical-align: top;\n",
       "    }\n",
       "\n",
       "    .dataframe thead th {\n",
       "        text-align: right;\n",
       "    }\n",
       "</style>\n",
       "<table border=\"1\" class=\"dataframe\">\n",
       "  <thead>\n",
       "    <tr style=\"text-align: right;\">\n",
       "      <th></th>\n",
       "      <th></th>\n",
       "      <th>자전거대여</th>\n",
       "    </tr>\n",
       "    <tr>\n",
       "      <th>year</th>\n",
       "      <th>month</th>\n",
       "      <th></th>\n",
       "    </tr>\n",
       "  </thead>\n",
       "  <tbody>\n",
       "    <tr>\n",
       "      <th rowspan=\"7\" valign=\"top\">2019</th>\n",
       "      <th>06</th>\n",
       "      <td>2293879</td>\n",
       "    </tr>\n",
       "    <tr>\n",
       "      <th>07</th>\n",
       "      <td>2164086</td>\n",
       "    </tr>\n",
       "    <tr>\n",
       "      <th>08</th>\n",
       "      <td>2101184</td>\n",
       "    </tr>\n",
       "    <tr>\n",
       "      <th>09</th>\n",
       "      <td>2084222</td>\n",
       "    </tr>\n",
       "    <tr>\n",
       "      <th>10</th>\n",
       "      <td>2436401</td>\n",
       "    </tr>\n",
       "    <tr>\n",
       "      <th>11</th>\n",
       "      <td>1537269</td>\n",
       "    </tr>\n",
       "    <tr>\n",
       "      <th>12</th>\n",
       "      <td>882078</td>\n",
       "    </tr>\n",
       "    <tr>\n",
       "      <th rowspan=\"12\" valign=\"top\">2020</th>\n",
       "      <th>01</th>\n",
       "      <td>794162</td>\n",
       "    </tr>\n",
       "    <tr>\n",
       "      <th>02</th>\n",
       "      <td>762274</td>\n",
       "    </tr>\n",
       "    <tr>\n",
       "      <th>03</th>\n",
       "      <td>1533535</td>\n",
       "    </tr>\n",
       "    <tr>\n",
       "      <th>04</th>\n",
       "      <td>2157390</td>\n",
       "    </tr>\n",
       "    <tr>\n",
       "      <th>05</th>\n",
       "      <td>2480330</td>\n",
       "    </tr>\n",
       "    <tr>\n",
       "      <th>06</th>\n",
       "      <td>2770858</td>\n",
       "    </tr>\n",
       "    <tr>\n",
       "      <th>07</th>\n",
       "      <td>2582511</td>\n",
       "    </tr>\n",
       "    <tr>\n",
       "      <th>08</th>\n",
       "      <td>1733973</td>\n",
       "    </tr>\n",
       "    <tr>\n",
       "      <th>09</th>\n",
       "      <td>2811990</td>\n",
       "    </tr>\n",
       "    <tr>\n",
       "      <th>10</th>\n",
       "      <td>2891618</td>\n",
       "    </tr>\n",
       "    <tr>\n",
       "      <th>11</th>\n",
       "      <td>1990070</td>\n",
       "    </tr>\n",
       "    <tr>\n",
       "      <th>12</th>\n",
       "      <td>1196309</td>\n",
       "    </tr>\n",
       "    <tr>\n",
       "      <th rowspan=\"12\" valign=\"top\">2021</th>\n",
       "      <th>01</th>\n",
       "      <td>812021</td>\n",
       "    </tr>\n",
       "    <tr>\n",
       "      <th>02</th>\n",
       "      <td>1234546</td>\n",
       "    </tr>\n",
       "    <tr>\n",
       "      <th>03</th>\n",
       "      <td>2184228</td>\n",
       "    </tr>\n",
       "    <tr>\n",
       "      <th>04</th>\n",
       "      <td>3043238</td>\n",
       "    </tr>\n",
       "    <tr>\n",
       "      <th>05</th>\n",
       "      <td>2950150</td>\n",
       "    </tr>\n",
       "    <tr>\n",
       "      <th>06</th>\n",
       "      <td>3460407</td>\n",
       "    </tr>\n",
       "    <tr>\n",
       "      <th>07</th>\n",
       "      <td>3377506</td>\n",
       "    </tr>\n",
       "    <tr>\n",
       "      <th>08</th>\n",
       "      <td>3245974</td>\n",
       "    </tr>\n",
       "    <tr>\n",
       "      <th>09</th>\n",
       "      <td>3736657</td>\n",
       "    </tr>\n",
       "    <tr>\n",
       "      <th>10</th>\n",
       "      <td>3445929</td>\n",
       "    </tr>\n",
       "    <tr>\n",
       "      <th>11</th>\n",
       "      <td>2737291</td>\n",
       "    </tr>\n",
       "    <tr>\n",
       "      <th>12</th>\n",
       "      <td>1826746</td>\n",
       "    </tr>\n",
       "  </tbody>\n",
       "</table>\n",
       "</div>"
      ],
      "text/plain": [
       "              자전거대여\n",
       "year month         \n",
       "2019 06     2293879\n",
       "     07     2164086\n",
       "     08     2101184\n",
       "     09     2084222\n",
       "     10     2436401\n",
       "     11     1537269\n",
       "     12      882078\n",
       "2020 01      794162\n",
       "     02      762274\n",
       "     03     1533535\n",
       "     04     2157390\n",
       "     05     2480330\n",
       "     06     2770858\n",
       "     07     2582511\n",
       "     08     1733973\n",
       "     09     2811990\n",
       "     10     2891618\n",
       "     11     1990070\n",
       "     12     1196309\n",
       "2021 01      812021\n",
       "     02     1234546\n",
       "     03     2184228\n",
       "     04     3043238\n",
       "     05     2950150\n",
       "     06     3460407\n",
       "     07     3377506\n",
       "     08     3245974\n",
       "     09     3736657\n",
       "     10     3445929\n",
       "     11     2737291\n",
       "     12     1826746"
      ]
     },
     "execution_count": 885,
     "metadata": {},
     "output_type": "execute_result"
    }
   ],
   "source": [
    "# 공공자전거 대여건수 월별 합계 \n",
    "bike_group=pd.DataFrame(bikeDF.groupby(['year','month']).sum())\n",
    "bike_group"
   ]
  },
  {
   "cell_type": "code",
   "execution_count": 886,
   "id": "0453504a",
   "metadata": {},
   "outputs": [
    {
     "name": "stdout",
     "output_type": "stream",
     "text": [
      "공공자전거 대여 월평균 => 2234156건\n",
      "공공자전거 대여 최대 이용월 => ('2021', '09'), 3736657건\n",
      "공공자전거 대여 최소 이용월 => ('2020', '02'), 762274건\n"
     ]
    }
   ],
   "source": [
    "a=bike_group['자전거대여']\n",
    "\n",
    "print(f'공공자전거 대여 월평균 => {round(a.mean())}건')\n",
    "print(f'공공자전거 대여 최대 이용월 => {a.idxmax()}, {a.max()}건')\n",
    "print(f'공공자전거 대여 최소 이용월 => {a.idxmin()}, {a.min()}건')"
   ]
  },
  {
   "cell_type": "code",
   "execution_count": 887,
   "id": "cc3dd534",
   "metadata": {},
   "outputs": [
    {
     "data": {
      "text/plain": [
       "<AxesSubplot:xlabel='year,month'>"
      ]
     },
     "execution_count": 887,
     "metadata": {},
     "output_type": "execute_result"
    },
    {
     "data": {
      "image/png": "[encoded data removed]",
      "text/plain": [
       "<Figure size 1080x504 with 1 Axes>"
      ]
     },
     "metadata": {
      "needs_background": "light"
     },
     "output_type": "display_data"
    }
   ],
   "source": [
    "bike_group.plot(figsize=(15,7))"
   ]
  },
  {
   "cell_type": "markdown",
   "id": "bc6c56f5",
   "metadata": {},
   "source": [
    "#### 데이터 전처리[코로나 확진자수 파일]"
   ]
  },
  {
   "cell_type": "code",
   "execution_count": 888,
   "id": "e550be4f",
   "metadata": {},
   "outputs": [],
   "source": [
    "# 코로나 확진자수 CSV FILE => DataFrame 변환\n",
    "covidDF=pd.read_csv(DIR+'COVID19_seoul_2020.0205_2022.07.11.csv', encoding='cp949')\n",
    "covidDF=covidDF[covidDF.columns[:7]]\n",
    "\n",
    "# 불필요한 열 삭제\n",
    "covidDF.drop(['서울시 확진자','서울시 치료중','서울시 퇴원','서울시 추가 퇴원','서울시 사망'], axis=1, inplace=True)\n",
    "\n",
    "# 컬럼명 변경\n",
    "covidDF.rename(columns={'서울시 기준일':'date'},inplace=True)\n",
    "covidDF.rename(columns={'서울시 추가 확진':'당일확진자'},inplace=True)"
   ]
  },
  {
   "cell_type": "code",
   "execution_count": 889,
   "id": "4cc11c80",
   "metadata": {
    "collapsed": true
   },
   "outputs": [
    {
     "name": "stderr",
     "output_type": "stream",
     "text": [
      "C:\\Users\\User\\AppData\\Local\\Temp\\ipykernel_4852\\211462859.py:2: FutureWarning: The default value of regex will change from True to False in a future version. In addition, single character regular expressions will *not* be treated as literal strings when regex=True.\n",
      "  covidDF['date']=covidDF['date'].str.replace('.','-')\n"
     ]
    },
    {
     "data": {
      "text/html": [
       "<div>\n",
       "<style scoped>\n",
       "    .dataframe tbody tr th:only-of-type {\n",
       "        vertical-align: middle;\n",
       "    }\n",
       "\n",
       "    .dataframe tbody tr th {\n",
       "        vertical-align: top;\n",
       "    }\n",
       "\n",
       "    .dataframe thead th {\n",
       "        text-align: right;\n",
       "    }\n",
       "</style>\n",
       "<table border=\"1\" class=\"dataframe\">\n",
       "  <thead>\n",
       "    <tr style=\"text-align: right;\">\n",
       "      <th></th>\n",
       "      <th>date</th>\n",
       "      <th>당일확진자</th>\n",
       "    </tr>\n",
       "  </thead>\n",
       "  <tbody>\n",
       "    <tr>\n",
       "      <th>0</th>\n",
       "      <td>2022-07-11</td>\n",
       "      <td>2622</td>\n",
       "    </tr>\n",
       "    <tr>\n",
       "      <th>1</th>\n",
       "      <td>2022-07-10</td>\n",
       "      <td>5244</td>\n",
       "    </tr>\n",
       "    <tr>\n",
       "      <th>2</th>\n",
       "      <td>2022-07-09</td>\n",
       "      <td>4900</td>\n",
       "    </tr>\n",
       "  </tbody>\n",
       "</table>\n",
       "</div>"
      ],
      "text/plain": [
       "         date  당일확진자\n",
       "0  2022-07-11   2622\n",
       "1  2022-07-10   5244\n",
       "2  2022-07-09   4900"
      ]
     },
     "execution_count": 889,
     "metadata": {},
     "output_type": "execute_result"
    }
   ],
   "source": [
    "# 날짜 유형 변경\n",
    "covidDF['date']=covidDF['date'].str.replace('.','-')\n",
    "covidDF['date']=covidDF['date'].str[:-3]"
   ]
  },
  {
   "cell_type": "code",
   "execution_count": 890,
   "id": "c1d73a60",
   "metadata": {
    "collapsed": true
   },
   "outputs": [
    {
     "data": {
      "text/html": [
       "<div>\n",
       "<style scoped>\n",
       "    .dataframe tbody tr th:only-of-type {\n",
       "        vertical-align: middle;\n",
       "    }\n",
       "\n",
       "    .dataframe tbody tr th {\n",
       "        vertical-align: top;\n",
       "    }\n",
       "\n",
       "    .dataframe thead th {\n",
       "        text-align: right;\n",
       "    }\n",
       "</style>\n",
       "<table border=\"1\" class=\"dataframe\">\n",
       "  <thead>\n",
       "    <tr style=\"text-align: right;\">\n",
       "      <th></th>\n",
       "      <th>date</th>\n",
       "      <th>당일확진자</th>\n",
       "      <th>year</th>\n",
       "      <th>month</th>\n",
       "      <th>day</th>\n",
       "    </tr>\n",
       "  </thead>\n",
       "  <tbody>\n",
       "    <tr>\n",
       "      <th>0</th>\n",
       "      <td>2022-07-11</td>\n",
       "      <td>2622</td>\n",
       "      <td>2022</td>\n",
       "      <td>07</td>\n",
       "      <td>11</td>\n",
       "    </tr>\n",
       "    <tr>\n",
       "      <th>1</th>\n",
       "      <td>2022-07-10</td>\n",
       "      <td>5244</td>\n",
       "      <td>2022</td>\n",
       "      <td>07</td>\n",
       "      <td>10</td>\n",
       "    </tr>\n",
       "    <tr>\n",
       "      <th>2</th>\n",
       "      <td>2022-07-09</td>\n",
       "      <td>4900</td>\n",
       "      <td>2022</td>\n",
       "      <td>07</td>\n",
       "      <td>09</td>\n",
       "    </tr>\n",
       "  </tbody>\n",
       "</table>\n",
       "</div>"
      ],
      "text/plain": [
       "         date  당일확진자  year month day\n",
       "0  2022-07-11   2622  2022    07  11\n",
       "1  2022-07-10   5244  2022    07  10\n",
       "2  2022-07-09   4900  2022    07  09"
      ]
     },
     "execution_count": 890,
     "metadata": {},
     "output_type": "execute_result"
    }
   ],
   "source": [
    "# 날짜 연-월-일 분리\n",
    "covid_list=covidDF['date'].str.split('-')\n",
    "\n",
    "covidDF['year']=covid_list.str.get(0)\n",
    "covidDF['month']=covid_list.str.get(1)\n",
    "covidDF['day']=covid_list.str.get(2)\n",
    "covidDF.head(3)"
   ]
  },
  {
   "cell_type": "code",
   "execution_count": 891,
   "id": "a596ab1a",
   "metadata": {
    "collapsed": true
   },
   "outputs": [
    {
     "name": "stdout",
     "output_type": "stream",
     "text": [
      "<class 'pandas.core.frame.DataFrame'>\n",
      "RangeIndex: 889 entries, 0 to 888\n",
      "Data columns (total 5 columns):\n",
      " #   Column  Non-Null Count  Dtype \n",
      "---  ------  --------------  ----- \n",
      " 0   date    889 non-null    object\n",
      " 1   당일확진자   889 non-null    int64 \n",
      " 2   year    889 non-null    object\n",
      " 3   month   889 non-null    object\n",
      " 4   day     889 non-null    object\n",
      "dtypes: int64(1), object(4)\n",
      "memory usage: 34.9+ KB\n"
     ]
    }
   ],
   "source": [
    "# 데이터 확인\n",
    "covidDF.info()"
   ]
  },
  {
   "cell_type": "code",
   "execution_count": 892,
   "id": "335bcbdb",
   "metadata": {
    "collapsed": true
   },
   "outputs": [
    {
     "data": {
      "text/plain": [
       "date     0\n",
       "당일확진자    0\n",
       "year     0\n",
       "month    0\n",
       "day      0\n",
       "dtype: int64"
      ]
     },
     "execution_count": 892,
     "metadata": {},
     "output_type": "execute_result"
    }
   ],
   "source": [
    "# 결측값 여부 확인\n",
    "covidDF.isnull().sum()"
   ]
  },
  {
   "cell_type": "code",
   "execution_count": 893,
   "id": "03d605b1",
   "metadata": {},
   "outputs": [
    {
     "data": {
      "text/plain": [
       "1"
      ]
     },
     "execution_count": 893,
     "metadata": {},
     "output_type": "execute_result"
    }
   ],
   "source": [
    "# 중복 데이터 여부 확인\n",
    "covidDF.duplicated().sum()"
   ]
  },
  {
   "cell_type": "code",
   "execution_count": 894,
   "id": "83ee81f8",
   "metadata": {},
   "outputs": [],
   "source": [
    "# 중복 제거 함수\n",
    "covidDF=covidDF.drop_duplicates()\n",
    "\n",
    "# 날짜 순으로 정렬\n",
    "covidDF=covidDF.sort_index(ascending=False)\n",
    "\n",
    "# index 다시 부여\n",
    "covidDF.index=range(len(covidDF))"
   ]
  },
  {
   "cell_type": "markdown",
   "id": "1fc07e39",
   "metadata": {},
   "source": [
    "### (1-2) 코로나 확진자수에 대한 기본통계"
   ]
  },
  {
   "cell_type": "code",
   "execution_count": 895,
   "id": "84baea0e",
   "metadata": {},
   "outputs": [
    {
     "data": {
      "text/html": [
       "<div>\n",
       "<style scoped>\n",
       "    .dataframe tbody tr th:only-of-type {\n",
       "        vertical-align: middle;\n",
       "    }\n",
       "\n",
       "    .dataframe tbody tr th {\n",
       "        vertical-align: top;\n",
       "    }\n",
       "\n",
       "    .dataframe thead th {\n",
       "        text-align: right;\n",
       "    }\n",
       "</style>\n",
       "<table border=\"1\" class=\"dataframe\">\n",
       "  <thead>\n",
       "    <tr style=\"text-align: right;\">\n",
       "      <th></th>\n",
       "      <th></th>\n",
       "      <th>당일확진자</th>\n",
       "    </tr>\n",
       "    <tr>\n",
       "      <th>year</th>\n",
       "      <th>month</th>\n",
       "      <th></th>\n",
       "    </tr>\n",
       "  </thead>\n",
       "  <tbody>\n",
       "    <tr>\n",
       "      <th rowspan=\"11\" valign=\"top\">2020</th>\n",
       "      <th>02</th>\n",
       "      <td>77</td>\n",
       "    </tr>\n",
       "    <tr>\n",
       "      <th>03</th>\n",
       "      <td>377</td>\n",
       "    </tr>\n",
       "    <tr>\n",
       "      <th>04</th>\n",
       "      <td>179</td>\n",
       "    </tr>\n",
       "    <tr>\n",
       "      <th>05</th>\n",
       "      <td>228</td>\n",
       "    </tr>\n",
       "    <tr>\n",
       "      <th>06</th>\n",
       "      <td>451</td>\n",
       "    </tr>\n",
       "    <tr>\n",
       "      <th>07</th>\n",
       "      <td>288</td>\n",
       "    </tr>\n",
       "    <tr>\n",
       "      <th>08</th>\n",
       "      <td>2267</td>\n",
       "    </tr>\n",
       "    <tr>\n",
       "      <th>09</th>\n",
       "      <td>1424</td>\n",
       "    </tr>\n",
       "    <tr>\n",
       "      <th>10</th>\n",
       "      <td>719</td>\n",
       "    </tr>\n",
       "    <tr>\n",
       "      <th>11</th>\n",
       "      <td>2802</td>\n",
       "    </tr>\n",
       "    <tr>\n",
       "      <th>12</th>\n",
       "      <td>10209</td>\n",
       "    </tr>\n",
       "    <tr>\n",
       "      <th rowspan=\"12\" valign=\"top\">2021</th>\n",
       "      <th>01</th>\n",
       "      <td>5168</td>\n",
       "    </tr>\n",
       "    <tr>\n",
       "      <th>02</th>\n",
       "      <td>4083</td>\n",
       "    </tr>\n",
       "    <tr>\n",
       "      <th>03</th>\n",
       "      <td>3803</td>\n",
       "    </tr>\n",
       "    <tr>\n",
       "      <th>04</th>\n",
       "      <td>5811</td>\n",
       "    </tr>\n",
       "    <tr>\n",
       "      <th>05</th>\n",
       "      <td>6080</td>\n",
       "    </tr>\n",
       "    <tr>\n",
       "      <th>06</th>\n",
       "      <td>6075</td>\n",
       "    </tr>\n",
       "    <tr>\n",
       "      <th>07</th>\n",
       "      <td>14377</td>\n",
       "    </tr>\n",
       "    <tr>\n",
       "      <th>08</th>\n",
       "      <td>15019</td>\n",
       "    </tr>\n",
       "    <tr>\n",
       "      <th>09</th>\n",
       "      <td>21148</td>\n",
       "    </tr>\n",
       "    <tr>\n",
       "      <th>10</th>\n",
       "      <td>19123</td>\n",
       "    </tr>\n",
       "    <tr>\n",
       "      <th>11</th>\n",
       "      <td>34711</td>\n",
       "    </tr>\n",
       "    <tr>\n",
       "      <th>12</th>\n",
       "      <td>70977</td>\n",
       "    </tr>\n",
       "    <tr>\n",
       "      <th rowspan=\"7\" valign=\"top\">2022</th>\n",
       "      <th>01</th>\n",
       "      <td>52140</td>\n",
       "    </tr>\n",
       "    <tr>\n",
       "      <th>02</th>\n",
       "      <td>498842</td>\n",
       "    </tr>\n",
       "    <tr>\n",
       "      <th>03</th>\n",
       "      <td>1983383</td>\n",
       "    </tr>\n",
       "    <tr>\n",
       "      <th>04</th>\n",
       "      <td>722562</td>\n",
       "    </tr>\n",
       "    <tr>\n",
       "      <th>05</th>\n",
       "      <td>135270</td>\n",
       "    </tr>\n",
       "    <tr>\n",
       "      <th>06</th>\n",
       "      <td>49289</td>\n",
       "    </tr>\n",
       "    <tr>\n",
       "      <th>07</th>\n",
       "      <td>40219</td>\n",
       "    </tr>\n",
       "  </tbody>\n",
       "</table>\n",
       "</div>"
      ],
      "text/plain": [
       "              당일확진자\n",
       "year month         \n",
       "2020 02          77\n",
       "     03         377\n",
       "     04         179\n",
       "     05         228\n",
       "     06         451\n",
       "     07         288\n",
       "     08        2267\n",
       "     09        1424\n",
       "     10         719\n",
       "     11        2802\n",
       "     12       10209\n",
       "2021 01        5168\n",
       "     02        4083\n",
       "     03        3803\n",
       "     04        5811\n",
       "     05        6080\n",
       "     06        6075\n",
       "     07       14377\n",
       "     08       15019\n",
       "     09       21148\n",
       "     10       19123\n",
       "     11       34711\n",
       "     12       70977\n",
       "2022 01       52140\n",
       "     02      498842\n",
       "     03     1983383\n",
       "     04      722562\n",
       "     05      135270\n",
       "     06       49289\n",
       "     07       40219"
      ]
     },
     "execution_count": 895,
     "metadata": {},
     "output_type": "execute_result"
    }
   ],
   "source": [
    "# 코로나 확진자수 월별 합계\n",
    "covid_group=pd.DataFrame(covidDF.groupby(['year','month']).sum())\n",
    "covid_group"
   ]
  },
  {
   "cell_type": "code",
   "execution_count": 896,
   "id": "b5999fe3",
   "metadata": {},
   "outputs": [
    {
     "name": "stdout",
     "output_type": "stream",
     "text": [
      "코로나 확진자수 월평균 => 123570명\n",
      "코로나 확진자수 최대월 => ('2022', '03'), 1983383명\n",
      "코로나 확진자수 최소월 => ('2020', '02'), 77명\n"
     ]
    }
   ],
   "source": [
    "b=covid_group['당일확진자']\n",
    "\n",
    "print(f'코로나 확진자수 월평균 => {round(b.mean())}명')\n",
    "print(f'코로나 확진자수 최대월 => {b.idxmax()}, {b.max()}명')\n",
    "print(f'코로나 확진자수 최소월 => {b.idxmin()}, {b.min()}명')"
   ]
  },
  {
   "cell_type": "code",
   "execution_count": 897,
   "id": "d26b133d",
   "metadata": {},
   "outputs": [
    {
     "data": {
      "text/plain": [
       "<AxesSubplot:xlabel='year,month'>"
      ]
     },
     "execution_count": 897,
     "metadata": {},
     "output_type": "execute_result"
    },
    {
     "data": {
      "image/png": "[encoded data removed]",
      "text/plain": [
       "<Figure size 1080x504 with 1 Axes>"
      ]
     },
     "metadata": {
      "needs_background": "light"
     },
     "output_type": "display_data"
    }
   ],
   "source": [
    "covid_group.plot(figsize=(15,7))"
   ]
  },
  {
   "cell_type": "markdown",
   "id": "be680235",
   "metadata": {},
   "source": [
    "#### 데이터 전처리[국내유가(휘발유) 파일]"
   ]
  },
  {
   "cell_type": "code",
   "execution_count": 898,
   "id": "fd174b92",
   "metadata": {
    "scrolled": true
   },
   "outputs": [],
   "source": [
    "# 국내(서울) 유가 CSV FILE => DataFrame 변환\n",
    "oilDF=pd.read_csv(DIR+'gasoline_seoul_19.06.01_22.07.10.csv', encoding='cp949')\n",
    "\n",
    "# 컬럼명 변경\n",
    "oilDF.rename(columns={'구분':'date'},inplace=True)\n",
    "\n",
    "# 날짜 연-월-일 분리\n",
    "oilDF['year']=oilDF['date'].str[:4]\n",
    "oilDF['month']=oilDF['date'].str[5:7]\n",
    "oilDF['day']=oilDF['date'].str[8:10]\n",
    "\n",
    "# data 형식 변경\n",
    "oilDF['date']=oilDF['date'].str.replace('년','-')\n",
    "oilDF['date']=oilDF['date'].str.replace('월','-')\n",
    "oilDF['date']=oilDF['date'].str.replace('일','')"
   ]
  },
  {
   "cell_type": "code",
   "execution_count": 899,
   "id": "4adc2b0f",
   "metadata": {
    "collapsed": true
   },
   "outputs": [
    {
     "data": {
      "text/plain": [
       "date     0\n",
       "보통휘발유    0\n",
       "year     0\n",
       "month    0\n",
       "day      0\n",
       "dtype: int64"
      ]
     },
     "execution_count": 899,
     "metadata": {},
     "output_type": "execute_result"
    }
   ],
   "source": [
    "# 결측값 여부 확인\n",
    "oilDF.isnull().sum()"
   ]
  },
  {
   "cell_type": "code",
   "execution_count": 900,
   "id": "e1dda668",
   "metadata": {},
   "outputs": [
    {
     "data": {
      "text/plain": [
       "0"
      ]
     },
     "execution_count": 900,
     "metadata": {},
     "output_type": "execute_result"
    }
   ],
   "source": [
    "# 중복 데이터 여부 확인\n",
    "oilDF.duplicated().sum()"
   ]
  },
  {
   "cell_type": "markdown",
   "id": "ddcc2c28",
   "metadata": {},
   "source": [
    "### (1-3) 국내유가(휘발유)에 대한 기본통계"
   ]
  },
  {
   "cell_type": "code",
   "execution_count": 901,
   "id": "aaae3693",
   "metadata": {},
   "outputs": [
    {
     "data": {
      "text/html": [
       "<div>\n",
       "<style scoped>\n",
       "    .dataframe tbody tr th:only-of-type {\n",
       "        vertical-align: middle;\n",
       "    }\n",
       "\n",
       "    .dataframe tbody tr th {\n",
       "        vertical-align: top;\n",
       "    }\n",
       "\n",
       "    .dataframe thead th {\n",
       "        text-align: right;\n",
       "    }\n",
       "</style>\n",
       "<table border=\"1\" class=\"dataframe\">\n",
       "  <thead>\n",
       "    <tr style=\"text-align: right;\">\n",
       "      <th></th>\n",
       "      <th></th>\n",
       "      <th>보통휘발유</th>\n",
       "    </tr>\n",
       "    <tr>\n",
       "      <th>year</th>\n",
       "      <th>month</th>\n",
       "      <th></th>\n",
       "    </tr>\n",
       "  </thead>\n",
       "  <tbody>\n",
       "    <tr>\n",
       "      <th rowspan=\"7\" valign=\"top\">2019</th>\n",
       "      <th>06</th>\n",
       "      <td>1517.543333</td>\n",
       "    </tr>\n",
       "    <tr>\n",
       "      <th>07</th>\n",
       "      <td>1491.493226</td>\n",
       "    </tr>\n",
       "    <tr>\n",
       "      <th>08</th>\n",
       "      <td>1493.717097</td>\n",
       "    </tr>\n",
       "    <tr>\n",
       "      <th>09</th>\n",
       "      <td>1529.259333</td>\n",
       "    </tr>\n",
       "    <tr>\n",
       "      <th>10</th>\n",
       "      <td>1540.464194</td>\n",
       "    </tr>\n",
       "    <tr>\n",
       "      <th>11</th>\n",
       "      <td>1535.648333</td>\n",
       "    </tr>\n",
       "    <tr>\n",
       "      <th>12</th>\n",
       "      <td>1548.470323</td>\n",
       "    </tr>\n",
       "    <tr>\n",
       "      <th rowspan=\"12\" valign=\"top\">2020</th>\n",
       "      <th>01</th>\n",
       "      <td>1568.443226</td>\n",
       "    </tr>\n",
       "    <tr>\n",
       "      <th>02</th>\n",
       "      <td>1545.291034</td>\n",
       "    </tr>\n",
       "    <tr>\n",
       "      <th>03</th>\n",
       "      <td>1469.085484</td>\n",
       "    </tr>\n",
       "    <tr>\n",
       "      <th>04</th>\n",
       "      <td>1323.690333</td>\n",
       "    </tr>\n",
       "    <tr>\n",
       "      <th>05</th>\n",
       "      <td>1255.106774</td>\n",
       "    </tr>\n",
       "    <tr>\n",
       "      <th>06</th>\n",
       "      <td>1322.896000</td>\n",
       "    </tr>\n",
       "    <tr>\n",
       "      <th>07</th>\n",
       "      <td>1360.252903</td>\n",
       "    </tr>\n",
       "    <tr>\n",
       "      <th>08</th>\n",
       "      <td>1361.099032</td>\n",
       "    </tr>\n",
       "    <tr>\n",
       "      <th>09</th>\n",
       "      <td>1352.501667</td>\n",
       "    </tr>\n",
       "    <tr>\n",
       "      <th>10</th>\n",
       "      <td>1333.295806</td>\n",
       "    </tr>\n",
       "    <tr>\n",
       "      <th>11</th>\n",
       "      <td>1319.595000</td>\n",
       "    </tr>\n",
       "    <tr>\n",
       "      <th>12</th>\n",
       "      <td>1367.801290</td>\n",
       "    </tr>\n",
       "    <tr>\n",
       "      <th rowspan=\"12\" valign=\"top\">2021</th>\n",
       "      <th>01</th>\n",
       "      <td>1441.843871</td>\n",
       "    </tr>\n",
       "    <tr>\n",
       "      <th>02</th>\n",
       "      <td>1463.226786</td>\n",
       "    </tr>\n",
       "    <tr>\n",
       "      <th>03</th>\n",
       "      <td>1513.270645</td>\n",
       "    </tr>\n",
       "    <tr>\n",
       "      <th>04</th>\n",
       "      <td>1534.524333</td>\n",
       "    </tr>\n",
       "    <tr>\n",
       "      <th>05</th>\n",
       "      <td>1541.530968</td>\n",
       "    </tr>\n",
       "    <tr>\n",
       "      <th>06</th>\n",
       "      <td>1577.390000</td>\n",
       "    </tr>\n",
       "    <tr>\n",
       "      <th>07</th>\n",
       "      <td>1629.365484</td>\n",
       "    </tr>\n",
       "    <tr>\n",
       "      <th>08</th>\n",
       "      <td>1645.809355</td>\n",
       "    </tr>\n",
       "    <tr>\n",
       "      <th>09</th>\n",
       "      <td>1642.742333</td>\n",
       "    </tr>\n",
       "    <tr>\n",
       "      <th>10</th>\n",
       "      <td>1712.418387</td>\n",
       "    </tr>\n",
       "    <tr>\n",
       "      <th>11</th>\n",
       "      <td>1737.456000</td>\n",
       "    </tr>\n",
       "    <tr>\n",
       "      <th>12</th>\n",
       "      <td>1646.383871</td>\n",
       "    </tr>\n",
       "    <tr>\n",
       "      <th rowspan=\"7\" valign=\"top\">2022</th>\n",
       "      <th>01</th>\n",
       "      <td>1635.221613</td>\n",
       "    </tr>\n",
       "    <tr>\n",
       "      <th>02</th>\n",
       "      <td>1714.555714</td>\n",
       "    </tr>\n",
       "    <tr>\n",
       "      <th>03</th>\n",
       "      <td>1938.549032</td>\n",
       "    </tr>\n",
       "    <tr>\n",
       "      <th>04</th>\n",
       "      <td>1976.537667</td>\n",
       "    </tr>\n",
       "    <tr>\n",
       "      <th>05</th>\n",
       "      <td>1967.067097</td>\n",
       "    </tr>\n",
       "    <tr>\n",
       "      <th>06</th>\n",
       "      <td>2084.009333</td>\n",
       "    </tr>\n",
       "    <tr>\n",
       "      <th>07</th>\n",
       "      <td>2113.339000</td>\n",
       "    </tr>\n",
       "  </tbody>\n",
       "</table>\n",
       "</div>"
      ],
      "text/plain": [
       "                  보통휘발유\n",
       "year month             \n",
       "2019 06     1517.543333\n",
       "     07     1491.493226\n",
       "     08     1493.717097\n",
       "     09     1529.259333\n",
       "     10     1540.464194\n",
       "     11     1535.648333\n",
       "     12     1548.470323\n",
       "2020 01     1568.443226\n",
       "     02     1545.291034\n",
       "     03     1469.085484\n",
       "     04     1323.690333\n",
       "     05     1255.106774\n",
       "     06     1322.896000\n",
       "     07     1360.252903\n",
       "     08     1361.099032\n",
       "     09     1352.501667\n",
       "     10     1333.295806\n",
       "     11     1319.595000\n",
       "     12     1367.801290\n",
       "2021 01     1441.843871\n",
       "     02     1463.226786\n",
       "     03     1513.270645\n",
       "     04     1534.524333\n",
       "     05     1541.530968\n",
       "     06     1577.390000\n",
       "     07     1629.365484\n",
       "     08     1645.809355\n",
       "     09     1642.742333\n",
       "     10     1712.418387\n",
       "     11     1737.456000\n",
       "     12     1646.383871\n",
       "2022 01     1635.221613\n",
       "     02     1714.555714\n",
       "     03     1938.549032\n",
       "     04     1976.537667\n",
       "     05     1967.067097\n",
       "     06     2084.009333\n",
       "     07     2113.339000"
      ]
     },
     "execution_count": 901,
     "metadata": {},
     "output_type": "execute_result"
    }
   ],
   "source": [
    "# 월별 평균 국내유가\n",
    "oil_group=pd.DataFrame(oilDF.groupby(['year','month']).mean())\n",
    "oil_group"
   ]
  },
  {
   "cell_type": "code",
   "execution_count": 902,
   "id": "ae9b801b",
   "metadata": {},
   "outputs": [
    {
     "name": "stdout",
     "output_type": "stream",
     "text": [
      "국내유가 월평균 => 1572원\n",
      "국내유가 최대월 => ('2022', '07'), 2113원\n",
      "국내유가 최소월 => ('2020', '05'), 1255원\n"
     ]
    }
   ],
   "source": [
    "c=oil_group['보통휘발유']\n",
    "\n",
    "print(f'국내유가 월평균 => {round(c.mean())}원')\n",
    "print(f'국내유가 최대월 => {c.idxmax()}, {round(c.max())}원')\n",
    "print(f'국내유가 최소월 => {c.idxmin()}, {round(c.min())}원')"
   ]
  },
  {
   "cell_type": "code",
   "execution_count": 910,
   "id": "456f7f93",
   "metadata": {
    "scrolled": false
   },
   "outputs": [
    {
     "data": {
      "text/plain": [
       "<AxesSubplot:xlabel='year,month'>"
      ]
     },
     "execution_count": 910,
     "metadata": {},
     "output_type": "execute_result"
    },
    {
     "data": {
      "image/png": "[encoded data removed]",
      "text/plain": [
       "<Figure size 1080x504 with 1 Axes>"
      ]
     },
     "metadata": {
      "needs_background": "light"
     },
     "output_type": "display_data"
    }
   ],
   "source": [
    "oil_group.plot(figsize=(15,7))"
   ]
  },
  {
   "cell_type": "markdown",
   "id": "c84b1e23",
   "metadata": {},
   "source": [
    "### (2-1) 공공자전거 이용자와 코로나 확진자와의 관계성"
   ]
  },
  {
   "cell_type": "code",
   "execution_count": 904,
   "id": "a4bc8fe0",
   "metadata": {},
   "outputs": [],
   "source": [
    "# 비교하기 위해 같은 기간으로 데이터 추출\n",
    "bike2021=bike_group.loc['2021'][2:10]\n",
    "covid2021=covid_group.loc['2021'][2:10]\n",
    "\n",
    "# DF 합치기\n",
    "bk_cvd = bike2021.join(covid2021)\n",
    "\n",
    "# 데이터 정규화\n",
    "bk_cvd_normal = (bk_cvd - bk_cvd.mean())/bk_cvd.std()"
   ]
  },
  {
   "cell_type": "code",
   "execution_count": 905,
   "id": "a2cbe2d4",
   "metadata": {},
   "outputs": [
    {
     "name": "stdout",
     "output_type": "stream",
     "text": [
      "공공자전거 이용자와 코로나 확진자의 상관계수 => 0.7286140081839408\n"
     ]
    }
   ],
   "source": [
    "# 공공자전거 이용자와 코로나 확진자의 상관관계\n",
    "bk_cvd_corr=bk_cvd.corr()\n",
    "print(f'공공자전거 이용자와 코로나 확진자의 상관계수 => {bk_cvd_corr.iloc[0][1]}')"
   ]
  },
  {
   "cell_type": "code",
   "execution_count": 906,
   "id": "1a20e7a8",
   "metadata": {
    "scrolled": true
   },
   "outputs": [
    {
     "name": "stderr",
     "output_type": "stream",
     "text": [
      "C:\\ProgramData\\Anaconda3\\lib\\site-packages\\IPython\\core\\pylabtools.py:151: UserWarning: Glyph 8722 (\\N{MINUS SIGN}) missing from current font.\n",
      "  fig.canvas.print_figure(bytes_io, **kw)\n"
     ]
    },
    {
     "data": {
      "image/png": "[encoded data removed]",
      "text/plain": [
       "<Figure size 432x288 with 1 Axes>"
      ]
     },
     "metadata": {
      "needs_background": "light"
     },
     "output_type": "display_data"
    }
   ],
   "source": [
    "# 그래프에 사용하기 위해 dataframe에서 list 추출\n",
    "bike_list = bk_cvd_normal['자전거대여'].to_list()\n",
    "covid_list = bk_cvd_normal['당일확진자'].to_list()\n",
    "\n",
    "month = pd.date_range(start='2021-03', end='2021-11', freq='M').strftime('%m').to_list()\n",
    "\n",
    "# 그래프로 시각화\n",
    "plt.plot(month, bike_list, 'mo--', label='자전거 대여', ms = 4)\n",
    "plt.legend()    # 범례\n",
    "plt.plot(month, covid_list, 'go--', label='코로나 확진자', ms = 4)\n",
    "plt.legend()  \n",
    "plt.xlabel('2021년 월별')    # x축 라벨\n",
    "plt.title('자전거 대여수 / 코로나 확진자수')\n",
    "plt.xticks(month)\n",
    "\n",
    "plt.show()"
   ]
  },
  {
   "cell_type": "markdown",
   "id": "c403d8be",
   "metadata": {},
   "source": [
    "### 중간 결론\n",
    "- 공공자전거 이용자와 코로나 확진자와의 관계성을 비교하기 위해 같은 기간으로 데이터를 추출하고, 데이터 정규화를 하였습니다.  \n",
    "  델타 변이로 인해 제4차 대유행(6월~12월)이 있었던 2021년에는 코로나 확진자가 증가함을 그래프에서 확인할 수 있고,     \n",
    "  공공자전거 이용자도 같은 기간동안 증가하는 추세임을 확인할 수 있습니다. 또한 상관계수도 0.73으로 양의 상관관계가 있었습니다.   \n",
    "  코로나로 인해 여러사람이 함께 이용하는 대중교통을 꺼려 공공자전거 이용자가 늘어났다고 볼 수 있으며,     \n",
    "  다른 1인 모빌리티 이용자도 늘어날 수 있음 예상할 수 있습니다."
   ]
  },
  {
   "cell_type": "markdown",
   "id": "eac35fb3",
   "metadata": {},
   "source": [
    "### (2-2) 공공자전거 이용자와 국내유가의 관계성"
   ]
  },
  {
   "cell_type": "code",
   "execution_count": 907,
   "id": "22196948",
   "metadata": {},
   "outputs": [],
   "source": [
    "# 비교하기 위해 같은 기간으로 데이터 추출\n",
    "bike2021=bike_group.loc['2021'][2:10]\n",
    "oil2021=oil_group.loc['2021'][2:10]\n",
    "\n",
    "# DF 합치기\n",
    "bk_oil = bike2021.join(oil2021)\n",
    "\n",
    "# 데이터 정규화\n",
    "bk_oil_normal = (bk_oil - bk_oil.mean())/bk_oil.std()"
   ]
  },
  {
   "cell_type": "code",
   "execution_count": 911,
   "id": "9f1ca3e4",
   "metadata": {},
   "outputs": [
    {
     "name": "stdout",
     "output_type": "stream",
     "text": [
      "공공자전거 이용자와 국내유가의 상관계수 => 0.7237938411977733\n"
     ]
    }
   ],
   "source": [
    "# 공공자전거 이용자와 국내유가의 상관관계\n",
    "bk_oil_corr=bk_oil.corr()\n",
    "print(f'공공자전거 이용자와 국내유가의 상관계수 => {bk_oil_corr.iloc[0][1]}')"
   ]
  },
  {
   "cell_type": "code",
   "execution_count": 909,
   "id": "18d5f8c6",
   "metadata": {},
   "outputs": [
    {
     "name": "stderr",
     "output_type": "stream",
     "text": [
      "C:\\ProgramData\\Anaconda3\\lib\\site-packages\\IPython\\core\\pylabtools.py:151: UserWarning: Glyph 8722 (\\N{MINUS SIGN}) missing from current font.\n",
      "  fig.canvas.print_figure(bytes_io, **kw)\n"
     ]
    },
    {
     "data": {
      "image/png": "[encoded data removed]",
      "text/plain": [
       "<Figure size 432x288 with 1 Axes>"
      ]
     },
     "metadata": {
      "needs_background": "light"
     },
     "output_type": "display_data"
    }
   ],
   "source": [
    "# 그래프에 사용하기 위해 dataframe에서 list 추출\n",
    "bike_list = bk_oil_normal['자전거대여'].to_list()\n",
    "oil_list = bk_oil_normal['보통휘발유'].to_list()\n",
    "\n",
    "month = pd.date_range(start='2021-03', end='2021-11', freq='M').strftime('%m').to_list()\n",
    "\n",
    "# 그래프로 시각화\n",
    "plt.plot(month, bike_list, 'mo--', label='자전거 대여', ms = 4)\n",
    "plt.legend()    # 범례\n",
    "plt.plot(month, oil_list, 'go--', label='국내 유가', ms = 4)\n",
    "plt.legend()  \n",
    "plt.xlabel('2021년 월별')    # x축 라벨\n",
    "plt.title('자전거 대여수 / 국내 유가')\n",
    "plt.xticks(month)\n",
    "\n",
    "plt.show()"
   ]
  },
  {
   "cell_type": "markdown",
   "id": "b12b5dd8",
   "metadata": {},
   "source": [
    "### 중간 결론\n",
    "- 공공자전거 이용자와 국내 유가와의 관계성을 비교하기 위해 같은 기간으로 데이터를 추출하고, 데이터 정규화를 하였습니다.   \n",
    "  천연가스 가격 상승, 유럽의 탄소중립 정책, 미국의 원유재고 감소, 러시아의 공급물량 감소 등으로   \n",
    "  국내유가인 휘발유의 가격이 증가함을 그래프에서 확인할 수 있고, 공공자전거 이용자도 같은 기간 증가하는 추세입니다.   \n",
    "  또한 상관계수도 0.72로 양의 상관관계가 있었습니다.  \n",
    "  유가 상승으로 인해 자가용 이용자가 공공자전거를 이용하였다고 볼 수 있으며, 다른 1인 모빌리티도 이용할 수 있음 예상할 수 있습니다."
   ]
  },
  {
   "cell_type": "code",
   "execution_count": null,
   "id": "1da330e1",
   "metadata": {},
   "outputs": [],
   "source": []
  }
 ],
 "metadata": {
  "kernelspec": {
   "display_name": "Python 3 (ipykernel)",
   "language": "python",
   "name": "python3"
  },
  "language_info": {
   "codemirror_mode": {
    "name": "ipython",
    "version": 3
   },
   "file_extension": ".py",
   "mimetype": "text/x-python",
   "name": "python",
   "nbconvert_exporter": "python",
   "pygments_lexer": "ipython3",
   "version": "3.9.12"
  }
 },
 "nbformat": 4,
 "nbformat_minor": 5
}
